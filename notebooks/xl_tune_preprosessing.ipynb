{
 "cells": [
  {
   "cell_type": "code",
   "execution_count": 1,
   "metadata": {},
   "outputs": [],
   "source": [
    "import os, re\n",
    "import json\n",
    "import pandas as pd"
   ]
  },
  {
   "cell_type": "code",
   "execution_count": 2,
   "metadata": {},
   "outputs": [],
   "source": [
    "eng = './data/sbersquad_train_clean_final_translated.json'\n",
    "\n",
    "rus = './data/sberquad/sbersquad_train_clean_final.json'\n"
   ]
  },
  {
   "cell_type": "code",
   "execution_count": 3,
   "metadata": {},
   "outputs": [],
   "source": [
    "end_data = json.load(open(eng, 'r'))"
   ]
  },
  {
   "cell_type": "code",
   "execution_count": 4,
   "metadata": {},
   "outputs": [],
   "source": [
    "rus_data = json.load(open(rus, 'r'))"
   ]
  },
  {
   "cell_type": "code",
   "execution_count": 9,
   "metadata": {},
   "outputs": [
    {
     "data": {
      "text/plain": [
       "{'context': 'Вода, природный газ и электричество поставляются муниципалитетам кантона Женева государственной компанией Сервис-Андустриэль-ду-Женев (фр. Services Industriels de Genève). Большая часть питьевой воды (80 %) выкачивается из Женевского озера, а остальные 20 % из подземных вод, которые изначально поступают из реки Арв. 30 % электричества производится в самом кантоне тремя плотинами гидроэлектростанции на реке Рона: Сюже, Вербуа, Шанси-Пуни (фр. Seujet, Verbois, Chancy-Pougny). Кроме того, 13 % электричества производится в кантоне за счёт мусоросжигателя Ле-Шенувье (фр. Les Cheneviers). Остальные 57 % электричества поставляются из других кантонов Швейцарии и европейских стран. Государственная компания Сервис-Андустриэль-ду-Женев покупает электричество, которое произведено только за счёт методов возобновления энергии и никогда не использует электричество, произведённое на АЭС или ТЭС. Природный газ в город поставляет швейцарская компания Gaznat из Западной Европы, которая также осуществляет две трети всех поставок газа в муниципалитеты кантона Женева. Сервис-Андустриэль-ду-Женев также предоставляет телекоммуникационные услуги транспортным компаниям, поставщикам услуг, крупным предприятиям. В период с 2003 по 2005 годы работал пилотный проект Voisin, voisine ( Сосед, соседка ) использующий волоконно-оптический кабель с Triple play, апробированный на рынке конечных пользователей в районе Шарми (фр. Charmilles).',\n",
       " 'qas': [{'id': '6c590a8747403debe65d2fd031b27f2606700b88',\n",
       "   'answers': [{'text': 'на реке рона', 'answer_start': 402}],\n",
       "   'question': 'Где расположены плотины гидроэлектростанции, производящей 30 % электричества в Женеве?'},\n",
       "  {'id': 'a437f03fd64d13d512e675d5026e6f3993bc9a82',\n",
       "   'answers': [{'text': 'которое произведено только за счёт методов возобновления энергии',\n",
       "     'answer_start': 759}],\n",
       "   'question': 'Какой вид электричества покупает государственная компания Сервис-Андустриэль-ду-Женев?'},\n",
       "  {'id': '9b594816707d1034ef9f5aac82c6c148fb1d3bb4',\n",
       "   'answers': [{'text': '13 %', 'answer_start': 491}],\n",
       "   'question': 'Сколько процентов электричества производится в кантоне за счёт мусоросжигателя Ле-Шенувье (фр. Les Cheneviers)?'},\n",
       "  {'id': 'b8c26bf8175fba731474d4fa11e51fb0d40faf29',\n",
       "   'answers': [{'text': 'швейцарская компания gaznat из западной европы',\n",
       "     'answer_start': 926}],\n",
       "   'question': 'Какая компания поставляет в Женеву природный газ?'},\n",
       "  {'id': 'f5dd5eb5199614d32b262b2821c7594fcd615172',\n",
       "   'answers': [{'text': 'из женевского озера', 'answer_start': 220}],\n",
       "   'question': 'От куда поступает большая часть питьевой воды (80 %) в Женеве?'}]}"
      ]
     },
     "execution_count": 9,
     "metadata": {},
     "output_type": "execute_result"
    }
   ],
   "source": [
    "rus_data['paragraphs'][0]"
   ]
  },
  {
   "cell_type": "code",
   "execution_count": 8,
   "metadata": {
    "scrolled": true
   },
   "outputs": [
    {
     "data": {
      "text/plain": [
       "{'qas': [{'id': '6c590a8747403debe65d2fd031b27f2606700b88',\n",
       "   'question_original': 'Где расположены плотины гидроэлектростанции, производящей 30 % электричества в Женеве?',\n",
       "   'answers': [{'answer_start': -1, 'text': 'on the river Ron'}],\n",
       "   'question': 'Where are the dams of a hydropower plant producing 30% of the electricity in Geneva?'},\n",
       "  {'id': 'a437f03fd64d13d512e675d5026e6f3993bc9a82',\n",
       "   'question_original': 'Какой вид электричества покупает государственная компания Сервис-Андустриэль-ду-Женев?',\n",
       "   'answers': [{'answer_start': -1,\n",
       "     'text': 'which is produced only by means of renewable energy'}],\n",
       "   'question': 'What kind of electricity does the State-owned Service-Andustriel do-Jenev buy?'},\n",
       "  {'id': '9b594816707d1034ef9f5aac82c6c148fb1d3bb4',\n",
       "   'question_original': 'Сколько процентов электричества производится в кантоне за счёт мусоросжигателя Ле-Шенувье (фр. Les Cheneviers)?',\n",
       "   'answers': [{'answer_start': -1, 'text': '13%'}],\n",
       "   'question': 'How much electricity is produced in the canton by Les Cheneviers?'},\n",
       "  {'id': 'b8c26bf8175fba731474d4fa11e51fb0d40faf29',\n",
       "   'question_original': 'Какая компания поставляет в Женеву природный газ?',\n",
       "   'answers': [{'answer_start': -1,\n",
       "     'text': 'Swiss company gaznat from Western Europe'}],\n",
       "   'question': 'Which company supplies natural gas to Geneva?'},\n",
       "  {'id': 'f5dd5eb5199614d32b262b2821c7594fcd615172',\n",
       "   'question_original': 'От куда поступает большая часть питьевой воды (80 %) в Женеве?',\n",
       "   'answers': [{'answer_start': -1, 'text': 'from Lake Geneva'}],\n",
       "   'question': 'Where does most (80 per cent) of the drinking water come from in Geneva?'}],\n",
       " 'context': 'Water, natural gas and electricity are supplied to the municipalities of the canton of Geneva by the State company Service-Andustriel do Genev (fr. Services Industries de Genève). Most of the drinking water (80 per cent) is pumped from the Lake Geneva and the remaining 20 per cent of the groundwater that originally comes from the River Arv. 30 per cent of the electricity is produced in the canton itself by three dams on the Ron River: Suje, Verbua, Shansi-Puni (fr. Seujet, Verbois, Chancy-Pougny). In addition, 13 per cent of the electricity is produced in the canton at the cost of the canon of the Les Chenoviers (f. Les Cheneviers). The remaining 57 per cent of the electricity is supplied from the other cantons of Switzerland and European countries. (The State company Servis-Andustriel-du-Jenev is buying electricity, which is produced only for the recovery of energy and is never used from the electric power plant, the power station, the power stations, the power stations are operated from the other cantons of the other cantons. (The State company is supplied by the gas on the gas on the gas on the city.'}"
      ]
     },
     "execution_count": 8,
     "metadata": {},
     "output_type": "execute_result"
    }
   ],
   "source": [
    "end_data['paragraphs'][0]"
   ]
  },
  {
   "cell_type": "code",
   "execution_count": 11,
   "metadata": {},
   "outputs": [
    {
     "data": {
      "text/plain": [
       "8000"
      ]
     },
     "execution_count": 11,
     "metadata": {},
     "output_type": "execute_result"
    }
   ],
   "source": [
    "len(end_data['paragraphs'])"
   ]
  },
  {
   "cell_type": "code",
   "execution_count": 12,
   "metadata": {},
   "outputs": [
    {
     "data": {
      "text/plain": [
       "8000"
      ]
     },
     "execution_count": 12,
     "metadata": {},
     "output_type": "execute_result"
    }
   ],
   "source": [
    "len(rus_data['paragraphs'])"
   ]
  },
  {
   "cell_type": "code",
   "execution_count": 19,
   "metadata": {},
   "outputs": [],
   "source": [
    "import random"
   ]
  },
  {
   "cell_type": "code",
   "execution_count": 15,
   "metadata": {},
   "outputs": [],
   "source": [
    "from transformers import GPT2Tokenizer"
   ]
  },
  {
   "cell_type": "code",
   "execution_count": 18,
   "metadata": {},
   "outputs": [
    {
     "data": {
      "text/plain": [
       "0"
      ]
     },
     "execution_count": 18,
     "metadata": {},
     "output_type": "execute_result"
    }
   ],
   "source": [
    "tok = GPT2Tokenizer.from_pretrained(\"sberbank-ai/rugpt3xl\")\n",
    "tok.add_special_tokens({\"bos_token\": \"<s>\"})\n",
    "tok.add_special_tokens({\"eos_token\": \"</s>\"})\n"
   ]
  },
  {
   "cell_type": "code",
   "execution_count": 25,
   "metadata": {},
   "outputs": [],
   "source": [
    "#eng \n",
    "def format_qa(eng_dic, rus_dic):\n",
    "    lst = []\n",
    "    for i in range(len(rus_dic['qas'])):\n",
    "        example = tok.bos_token +\"paragraph: \"+eng_dic['context']+\"\\nlang: rus\\nquestion: \"+rus_dic['qas'][i]['question']+' answer: '+ rus_dic['qas'][i]['answers'][0]['text'] + tok.eos_token\n",
    "        lst.append(example)\n",
    "        example = tok.bos_token +\"paragraph: \"+rus_dic['context']+\"\\nlang: rus\\nquestion: \"+rus_dic['qas'][i]['question']+' answer: '+ rus_dic['qas'][i]['answers'][0]['text'] + tok.eos_token\n",
    "        lst.append(example)\n",
    "    for i in range(len(eng_dic['qas'])):\n",
    "        example = tok.bos_token +\"paragraph: \"+eng_dic['context']+\"\\nlang: eng\\nquestion: \"+eng_dic['qas'][i]['question']+' answer: '+ eng_dic['qas'][i]['answers'][0]['text'] + tok.eos_token\n",
    "        lst.append(example)\n",
    "        example = tok.bos_token +\"paragraph: \"+rus_dic['context']+\"\\nlang: eng\\nquestion: \"+eng_dic['qas'][i]['question']+' answer: '+ eng_dic['qas'][i]['answers'][0]['text'] + tok.eos_token\n",
    "        lst.append(example)\n",
    "        \n",
    "\n",
    "    return lst"
   ]
  },
  {
   "cell_type": "code",
   "execution_count": 26,
   "metadata": {},
   "outputs": [],
   "source": [
    "cross_ling = []\n",
    "for i in range(len(end_data['paragraphs'])):\n",
    "    cross_ling += format_qa(end_data['paragraphs'][i], rus_data['paragraphs'][i])"
   ]
  },
  {
   "cell_type": "code",
   "execution_count": 27,
   "metadata": {},
   "outputs": [
    {
     "data": {
      "text/plain": [
       "157388"
      ]
     },
     "execution_count": 27,
     "metadata": {},
     "output_type": "execute_result"
    }
   ],
   "source": [
    "len(cross_ling)"
   ]
  },
  {
   "cell_type": "code",
   "execution_count": 28,
   "metadata": {},
   "outputs": [
    {
     "data": {
      "text/plain": [
       "'<s>paragraph: Water, natural gas and electricity are supplied to the municipalities of the canton of Geneva by the State company Service-Andustriel do Genev (fr. Services Industries de Genève). Most of the drinking water (80 per cent) is pumped from the Lake Geneva and the remaining 20 per cent of the groundwater that originally comes from the River Arv. 30 per cent of the electricity is produced in the canton itself by three dams on the Ron River: Suje, Verbua, Shansi-Puni (fr. Seujet, Verbois, Chancy-Pougny). In addition, 13 per cent of the electricity is produced in the canton at the cost of the canon of the Les Chenoviers (f. Les Cheneviers). The remaining 57 per cent of the electricity is supplied from the other cantons of Switzerland and European countries. (The State company Servis-Andustriel-du-Jenev is buying electricity, which is produced only for the recovery of energy and is never used from the electric power plant, the power station, the power stations, the power stations are operated from the other cantons of the other cantons. (The State company is supplied by the gas on the gas on the gas on the city.\\nlang: rus\\nquestion: Где расположены плотины гидроэлектростанции, производящей 30 % электричества в Женеве? answer: на реке рона</s>'"
      ]
     },
     "execution_count": 28,
     "metadata": {},
     "output_type": "execute_result"
    }
   ],
   "source": [
    "cross_ling[0]"
   ]
  },
  {
   "cell_type": "code",
   "execution_count": 29,
   "metadata": {},
   "outputs": [
    {
     "data": {
      "text/plain": [
       "'<s>paragraph: Вавилоно-ассирийская литература показывает различные стороны хозяйственной, общественной и повседневной жизни народов, населявших Древнюю Месопотамию в первые три тысячелетия до нашей эры. Отличительной чертой Вавилоно-ассирийской литературы является необычайный консерватизм всех литературных жанров. Задачей писца было не создание нового литературного произведения, а сохранение для будущих поколений литературного наследия древности или в лучшем случае применение древней литературы к потребностям и нуждам современности.\\nlang: rus\\nquestion: Какова была задача писца Вавилоно-ассирийской литературы? answer: сохранение для будущих поколений литературного наследия древности</s>'"
      ]
     },
     "execution_count": 29,
     "metadata": {},
     "output_type": "execute_result"
    }
   ],
   "source": [
    "random.shuffle(cross_ling)\n",
    "cross_ling[0]"
   ]
  },
  {
   "cell_type": "code",
   "execution_count": 30,
   "metadata": {},
   "outputs": [],
   "source": [
    "batch_size = len(cross_ling) // 10"
   ]
  },
  {
   "cell_type": "code",
   "execution_count": 31,
   "metadata": {},
   "outputs": [],
   "source": [
    "!mkdir /home/jovyan/data/crossqa"
   ]
  },
  {
   "cell_type": "code",
   "execution_count": 32,
   "metadata": {},
   "outputs": [],
   "source": [
    "with open(\"/home/jovyan/data/crossqa/train.list\", \"w\") as file:\n",
    "    idx = 0\n",
    "    while cross_ling:\n",
    "        with open(f\"/home/jovyan/data/crossqa/train{idx}.txt\", \"w\") as file_t:\n",
    "            for line in cross_ling[:batch_size]:\n",
    "                file_t.write(f\"{line}\\n\")\n",
    "        file.write(f\"/home/jovyan/data/crossqa/train{idx}.txt\\n\")\n",
    "        idx += 1\n",
    "        cross_ling = cross_ling[batch_size:]"
   ]
  }
 ],
 "metadata": {
  "kernelspec": {
   "display_name": "Python 3",
   "language": "python",
   "name": "python3"
  },
  "language_info": {
   "codemirror_mode": {
    "name": "ipython",
    "version": 3
   },
   "file_extension": ".py",
   "mimetype": "text/x-python",
   "name": "python",
   "nbconvert_exporter": "python",
   "pygments_lexer": "ipython3",
   "version": "3.7.10"
  }
 },
 "nbformat": 4,
 "nbformat_minor": 4
}
